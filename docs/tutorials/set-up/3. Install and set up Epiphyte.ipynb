{
 "cells": [
  {
   "cell_type": "markdown",
   "metadata": {},
   "source": [
    "# Tutorial 3: Install and set up Epiphyte "
   ]
  },
  {
   "cell_type": "markdown",
   "metadata": {},
   "source": [
    "### **Requirements:** a VM running your MySQL database (tutorial 1 complete).\n",
    "\n",
    "In this tutorial we'll go through how to install and set up Epiphyte. \n",
    "\n",
    "There are two ways to install Epiphyte, either via `pip` or by cloning the GitHub repository. In this tutorial, we will cover both methods. If you have already cloned the repo and are going through the tutorials, skip to step (). \n",
    "\n",
    "-----------"
   ]
  },
  {
   "cell_type": "markdown",
   "metadata": {},
   "source": [
    "## 1. "
   ]
  }
 ],
 "metadata": {
  "language_info": {
   "name": "python"
  }
 },
 "nbformat": 4,
 "nbformat_minor": 2
}
