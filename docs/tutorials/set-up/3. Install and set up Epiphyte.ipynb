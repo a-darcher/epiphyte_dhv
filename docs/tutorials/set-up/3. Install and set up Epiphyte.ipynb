{
 "cells": [
  {
   "cell_type": "markdown",
   "metadata": {},
   "source": [
    "# Tutorial 3: Install and set up Epiphyte "
   ]
  },
  {
   "cell_type": "markdown",
   "metadata": {},
   "source": [
    "### **Requirements:** a VM running your MySQL database (tutorial 1 complete).\n",
    "\n",
    "In this tutorial we'll go through how to install and set up Epiphyte. \n",
    "\n",
    "There are two ways to install Epiphyte: either via `pip` or by cloning the GitHub repository. In this tutorial, we will cover both methods. If you have already cloned the repo and are going through the tutorials, skip to step ().\n",
    "\n",
    "Epiphyte should be installed on the client-side, i.e. from where you plan to access your database (but not necessarily on the database/VM itself).\n",
    "\n",
    "-----------"
   ]
  },
  {
   "cell_type": "markdown",
   "metadata": {},
   "source": [
    "## 1. "
   ]
  }
 ],
 "metadata": {
  "kernelspec": {
   "display_name": "Python 3 (ipykernel)",
   "language": "python",
   "name": "python3"
  },
  "language_info": {
   "codemirror_mode": {
    "name": "ipython",
    "version": 3
   },
   "file_extension": ".py",
   "mimetype": "text/x-python",
   "name": "python",
   "nbconvert_exporter": "python",
   "pygments_lexer": "ipython3",
   "version": "3.8.10"
  }
 },
 "nbformat": 4,
 "nbformat_minor": 2
}
