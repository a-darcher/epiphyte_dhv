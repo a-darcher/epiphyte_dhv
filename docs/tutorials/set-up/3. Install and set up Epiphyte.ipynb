{
 "cells": [
  {
   "cell_type": "markdown",
   "metadata": {},
   "source": [
    "# Tutorial 3: Install and set up Epiphyte "
   ]
  },
  {
   "cell_type": "markdown",
   "metadata": {},
   "source": [
    "### **Requirements:** \n",
    "* VM installed (tutorial 1 completed)\n",
    "* (optional) MinIO configured\n",
    "* Local machine running Linux or MacOS, with 400 MB of free disk space \n",
    "* `Python3` and `conda` installed on your local machine (note: if using Windows, highly recommended to use VS Code for the following.)\n",
    "\n",
    "Once your VM is configured and optional large storage is ready, you're ready to install and set up Epiphyte. \n",
    "\n",
    "While the database resides on the VM and connects to the large storage, if used, the actual definition and structuring of the database is accomplished outside of the VM and remote server. This makes it possible to install and configure Epiphyte on a separate computer (e.g., a workstation or personal laptop), while gaining the power and storage capacity of an external server. A schematic of this arrangement is given below:\n",
    "\n",
    "<div>\n",
    "<img src=\"../../reference/infrastructure_diagram.png\" width=\"400\"/>\n",
    "</div>\n",
    "\n",
    "Here, the VM (configured by you, the `dev` user) hosts the database, while the codebase controls and populates it with data. Once you install and configure Epiphyte, it is possible to directly interact with the remotely-hosted database on your PC or workstation. \n",
    "\n",
    "\n",
    "In this tutorial we'll go through how to install and set up Epiphyte on your PC, workstation, or whichever machine you will use for interacting with the data. \n",
    "\n",
    "There are two ways to install Epiphyte: either via `pip` or by cloning the GitHub repository. In this tutorial, we will cover both methods. If you have already cloned the repo and are going through the tutorials locally, skip to step (). \n",
    "\n",
    "-----------"
   ]
  },
  {
   "cell_type": "markdown",
   "metadata": {},
   "source": [
    "## Install Epiphyte via `pip`"
   ]
  },
  {
   "cell_type": "markdown",
   "metadata": {},
   "source": [
    "### 1. Create a new conda environment suitable for the epiphyte requirements:"
   ]
  },
  {
   "cell_type": "markdown",
   "metadata": {},
   "source": [
    "<pre style=\"background-color: #1E1E1E; color: white; padding: 10px; border-radius: 5px; border-left: 5px solid #007bff;\">\n",
    "conda create --name epiphyte python=3.9.18 ipython\n",
    "</pre>"
   ]
  },
  {
   "cell_type": "markdown",
   "metadata": {},
   "source": [
    "### 2. Activate the conda environment and install Epiphyte:"
   ]
  },
  {
   "cell_type": "markdown",
   "metadata": {},
   "source": [
    "\n",
    "<pre style=\"background-color: #1E1E1E; color: white; padding: 10px; border-radius: 5px; border-left: 5px solid #007bff;\">\n",
    "conda activate epiphyte\n",
    "pip install epiphyte\n",
    "</pre>"
   ]
  },
  {
   "cell_type": "markdown",
   "metadata": {},
   "source": [
    "# Install Epiphyte via `git`:"
   ]
  },
  {
   "cell_type": "markdown",
   "metadata": {},
   "source": [
    "### 1. Clone the repository, and change directory to the repository: \n",
    "\n",
    "<pre style=\"background-color: #1E1E1E; color: white; padding: 10px; border-radius: 5px; border-left: 5px solid #007bff;\">\n",
    "git clone git@github.com:mackelab/epiphyte.git\n",
    "cd epiphyte\n",
    "</pre>"
   ]
  },
  {
   "cell_type": "markdown",
   "metadata": {},
   "source": [
    "### 2. Create a new conda environment suitable for the Epiphyte requirements:\n",
    "\n",
    "<pre style=\"background-color: #1E1E1E; color: white; padding: 10px; border-radius: 5px; border-left: 5px solid #007bff;\">\n",
    "conda create --name epiphyte python=3.9.18 ipython\n",
    "</pre>"
   ]
  },
  {
   "cell_type": "markdown",
   "metadata": {},
   "source": [
    "### 3. Activate the conda environment and install the needed dependencies:\n",
    "\n",
    "<pre style=\"background-color: #1E1E1E; color: white; padding: 10px; border-radius: 5px; border-left: 5px solid #007bff;\">\n",
    "conda activate epiphyte\n",
    "pip install .\n",
    "</pre>"
   ]
  },
  {
   "cell_type": "markdown",
   "metadata": {},
   "source": [
    "### 4. Verify the installation:\n",
    "\n",
    "<pre style=\"background-color: #1E1E1E; color: white; padding: 10px; border-radius: 5px; border-left: 5px solid #007bff;\">\n",
    "conda list\n",
    "</pre>"
   ]
  }
 ],
 "metadata": {
  "kernelspec": {
   "display_name": "Python 3 (ipykernel)",
   "language": "python",
   "name": "python3"
  },
  "language_info": {
   "codemirror_mode": {
    "name": "ipython",
    "version": 3
   },
   "file_extension": ".py",
   "mimetype": "text/x-python",
   "name": "python",
   "nbconvert_exporter": "python",
   "pygments_lexer": "ipython3",
   "version": "3.8.10"
  }
 },
 "nbformat": 4,
 "nbformat_minor": 2
}
