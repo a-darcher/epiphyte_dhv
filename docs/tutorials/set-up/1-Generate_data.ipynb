{
 "cells": [
  {
   "cell_type": "markdown",
   "id": "6ef6d919-fb1e-45ea-a1e3-5eebd90dcb5f",
   "metadata": {},
   "source": [
    "# Generate Data"
   ]
  },
  {
   "cell_type": "code",
   "execution_count": null,
   "id": "bbf91004",
   "metadata": {},
   "outputs": [],
   "source": [
    "import sys\n",
    "sys.path.append(\"/home/alana/Documents/phd/code/epiphyte/src/\")\n",
    "\n",
    "from epiphyte.data.mock_data_utils import * \n",
    "from epiphyte.database import config"
   ]
  },
  {
   "cell_type": "markdown",
   "id": "31308585-3b24-4c6d-b20c-64fb51a4ceb5",
   "metadata": {},
   "source": [
    "super brief intro to data format\n",
    "\n",
    "(image of the dataset)\n",
    "\n",
    "super brief explanation of what is needed for the database population \n",
    "\n",
    "explain the storage needs"
   ]
  },
  {
   "cell_type": "markdown",
   "id": "93d52385-7ebb-4171-8a77-ce9da0003322",
   "metadata": {},
   "source": [
    "## (1) Set patient parameters"
   ]
  },
  {
   "cell_type": "code",
   "execution_count": null,
   "id": "f8187bcb-c492-458c-bb17-c454d5105420",
   "metadata": {},
   "outputs": [],
   "source": [
    "patient_id = 1\n",
    "session_nr = 1"
   ]
  },
  {
   "cell_type": "markdown",
   "id": "a7b9a52b-b587-42e8-a804-14ad8f42afac",
   "metadata": {},
   "source": [
    "## (2) Initialize the GenerateData class for the patient"
   ]
  },
  {
   "cell_type": "code",
   "execution_count": null,
   "id": "306ac6d0-8a84-454c-929f-8c412feed8d9",
   "metadata": {},
   "outputs": [],
   "source": [
    "pat1_neural_data = GenerateData(patient_id, session_nr)\n",
    "pat1_neural_data.summarize()\n",
    "pat1_neural_data.save_session_info()"
   ]
  },
  {
   "cell_type": "markdown",
   "id": "727b3552-a905-44d9-9132-137658a22d7f",
   "metadata": {},
   "source": [
    "## (3) Generate the mock neural data"
   ]
  },
  {
   "cell_type": "markdown",
   "id": "e3b1730b-7be3-42b0-bbb1-24ae50d77308",
   "metadata": {},
   "source": [
    "### Generate spikes"
   ]
  },
  {
   "cell_type": "code",
   "execution_count": null,
   "id": "892cf445-e4db-439d-a575-95039a1e7f45",
   "metadata": {},
   "outputs": [],
   "source": [
    "pat1_neural_data.save_spike_trains()"
   ]
  },
  {
   "cell_type": "markdown",
   "id": "4dfd4018-0684-4f96-8c59-43850507eeef",
   "metadata": {
    "tags": []
   },
   "source": [
    "### Create neural meta-data files\n",
    "\n",
    "#### ChannelNames.txt\n",
    "\n",
    "Channels names indicate which brain region a given unit was recorded from. \n",
    "Here, channel files consist of a look-up table used to determine where a spike train originates. Once in the database, the region labels allow for dynamically switching between region-specific analyses.where"
   ]
  },
  {
   "cell_type": "code",
   "execution_count": null,
   "id": "934d6fdf-18bc-432c-afa9-69fae0d8434a",
   "metadata": {},
   "outputs": [],
   "source": [
    "pat1_neural_data.save_channel_names()"
   ]
  },
  {
   "cell_type": "markdown",
   "id": "5712e09d-7360-46b3-94dd-caeb4e9e4769",
   "metadata": {},
   "source": [
    "#### Events.npy\n",
    "\n",
    "A proprietary file format from Neuralynx.\n",
    "Necessary for matching spike train data to stimulus information. "
   ]
  },
  {
   "cell_type": "code",
   "execution_count": null,
   "id": "964571ee-1adf-4d5c-9db8-0ba23ad35b26",
   "metadata": {},
   "outputs": [],
   "source": [
    "pat1_neural_data.save_events()"
   ]
  },
  {
   "cell_type": "markdown",
   "id": "75adfa72-5d9c-427f-9abc-ef6de3dfd4b3",
   "metadata": {},
   "source": [
    "#### DAQ log\n",
    "\n",
    "Allows a linear mapping between the two different timescales (Neural recording device time and local computer time) so that neural events can be matched to stimulus evvents and vice versa."
   ]
  },
  {
   "cell_type": "code",
   "execution_count": null,
   "id": "f0e6a97b-206a-49c9-87ed-70681bfb9f17",
   "metadata": {},
   "outputs": [],
   "source": [
    "pat1_neural_data.save_daq_log()"
   ]
  },
  {
   "cell_type": "markdown",
   "id": "b622a940-12c5-4dd8-8fb3-cf3efac7396d",
   "metadata": {},
   "source": [
    "#### Watch log file\n",
    "\n",
    "Experimental stimulus file that timestampes the movie playback, and makes it possible to unite the neural data with the movie stimulus."
   ]
  },
  {
   "cell_type": "code",
   "execution_count": null,
   "id": "eefbebda-39eb-4c4c-afeb-a1f49fe93a38",
   "metadata": {},
   "outputs": [],
   "source": [
    "pat1_neural_data.save_watchlog_with_artifacts()"
   ]
  },
  {
   "cell_type": "markdown",
   "id": "820d4cb7-8b5a-40de-80fc-7fdb755ca417",
   "metadata": {},
   "source": [
    "## (4) Generate mock movie annotations\n",
    "\n",
    "For the purposes of demonstration, the meta-data consists of frames/movie time points in which a movie character was on-screen. \n",
    "\n",
    "Since the stimulus meta-data is taken only from the stimulus, this information only needs to be generated once per \"experimental\" paradigm. "
   ]
  },
  {
   "cell_type": "code",
   "execution_count": null,
   "id": "f82f3bc0",
   "metadata": {},
   "outputs": [],
   "source": [
    "config.PATH_TO_LABELS"
   ]
  },
  {
   "cell_type": "code",
   "execution_count": null,
   "id": "0ead5b91-d696-482f-a3f3-c386c4c189d3",
   "metadata": {},
   "outputs": [],
   "source": [
    "nr_movie_frames = 125725      # movie length: 5029 seconds (AVI file); 5029/0.04 = 125725\n",
    "perfect_pts = [round((x * 0.04), 2) for x in range(1, nr_movie_frames+1)]  \n",
    "\n",
    "annotator_ids = []\n",
    "for i in range(len(config.annotators)):\n",
    "    annotator_ids.append(config.annotators[i]['annotator_id'])\n",
    "\n",
    "path = Path(config.PATH_TO_LABELS)\n",
    "path.mkdir(parents=True, exist_ok=True)\n",
    "\n",
    "start_times_1 = [0, 5000.04, 7000.04, 12000.04]\n",
    "stop_times_1 = [5000,7000,12000,12575]\n",
    "values_1 = [1,0,1,0]\n",
    "character1 = np.array([values_1, start_times_1, stop_times_1]) \n",
    "np.save(path / f\"1_character1_{random.choice(annotator_ids)}_{datetime.now().strftime('%Y%m%d')}_character.npy\", character1)\n",
    "\n",
    "start_times_2 = [0, 400.04, 4000.04, 10000.04, 10500.04]\n",
    "stop_times_2 = [400,4000,10000,10500,12575]\n",
    "values_2 = [0,1,0,1,0]\n",
    "character2 = np.array([values_2, start_times_2, stop_times_2]) \n",
    "np.save(path / f\"2_character2_{random.choice(annotator_ids)}_{datetime.now().strftime('%Y%m%d')}_character.npy\", character2)\n",
    "\n",
    "start_times_3 = [0, 100.04, 500.04]\n",
    "stop_times_3 = [100, 500, 12575]\n",
    "values_3 = [0,1,0]\n",
    "location1 = np.array([values_3, start_times_3, stop_times_3]) \n",
    "np.save(path / f\"3_location1_{random.choice(annotator_ids)}_{datetime.now().strftime('%Y%m%d')}_character.npy\", location1)\n"
   ]
  },
  {
   "cell_type": "markdown",
   "id": "ea2e5033-17e6-4bb8-89ec-59102a4ce1bd",
   "metadata": {},
   "source": [
    "# Generate data for 2 more patients"
   ]
  },
  {
   "cell_type": "code",
   "execution_count": null,
   "id": "cf6ca874-f888-4215-a838-d5c5ff3eb33b",
   "metadata": {},
   "outputs": [],
   "source": [
    "patients = [2,3]\n",
    "sessions = [[1, 2], [1]]"
   ]
  },
  {
   "cell_type": "code",
   "execution_count": null,
   "id": "3bf77596-23f5-49ae-9dfe-d55b9accc4ac",
   "metadata": {},
   "outputs": [],
   "source": [
    "for patient_id, patient_sessions in zip(patients, sessions):\n",
    "\n",
    "    for session_nr in patient_sessions:\n",
    "\n",
    "        print(f\"patient {patient_id}, session {session_nr}\")\n",
    "\n",
    "        pat1_neural_data = GenerateData(patient_id, session_nr)\n",
    "        pat1_neural_data.summarize()\n",
    "        \n",
    "        pat1_neural_data.save_spike_trains()\n",
    "        \n",
    "        pat1_neural_data.save_channel_names()\n",
    "        pat1_neural_data.save_events()\n",
    "        pat1_neural_data.save_daq_log()\n",
    "        pat1_neural_data.save_watchlog_with_artifacts()"
   ]
  }
 ],
 "metadata": {
  "kernelspec": {
   "display_name": "epi_dev",
   "language": "python",
   "name": "python3"
  },
  "language_info": {
   "codemirror_mode": {
    "name": "ipython",
    "version": 3
   },
   "file_extension": ".py",
   "mimetype": "text/x-python",
   "name": "python",
   "nbconvert_exporter": "python",
   "pygments_lexer": "ipython3",
   "version": "3.9.18"
  }
 },
 "nbformat": 4,
 "nbformat_minor": 5
}
