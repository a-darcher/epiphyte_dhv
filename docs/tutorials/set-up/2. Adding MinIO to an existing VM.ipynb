{
 "cells": [
  {
   "cell_type": "markdown",
   "id": "47d600bd",
   "metadata": {},
   "source": [
    "# Adding MinIO to an existing VM"
   ]
  },
  {
   "cell_type": "markdown",
   "id": "bb8b6649",
   "metadata": {},
   "source": [
    "In this tutorial we'll cover how to launch MinIO from an existing VM (which was configured in the previous tutorials). \n",
    "\n",
    "MinIO is an object storage server useful for storing large files. If all of your data files are small (roughly <10 MB), you can probably just store all of your data directly in the MySQL database and skip this part. If you need to access larger files, then this tutorial is for you.\n",
    "\n",
    "**Note text in bold, which indicates you should make changes to the commands before entering them.**\n",
    "\n",
    "Otherwise you can just copy and paste the commands below directly into a terminal session on your VM. The text provides optional background which can be referred to as needed.\n",
    "\n",
    "-----------------------"
   ]
  },
  {
   "cell_type": "markdown",
   "id": "2d781195",
   "metadata": {},
   "source": [
    "**Requirements:** A VM running your MySQL database (tutorials x--x complete).\n"
   ]
  },
  {
   "cell_type": "markdown",
   "id": "3936de1d",
   "metadata": {},
   "source": [
    "## 1. Mount your external volume (optional, for MinIO or other bulky data storage)"
   ]
  },
  {
   "cell_type": "markdown",
   "id": "a8fe79ee",
   "metadata": {},
   "source": [
    "The specifics here will vary based on your specific setup (what you're using as your volume, if you're using one at all). Here we'll cover some general steps, but if you're part of an organization, you should probably reach out to a system admin for the specifics.\n",
    "\n",
    "First, attach the device to the VM instance (e.g. via your cloud computing platform, such as OpenStack, or by plugging in an external hard drive). Run `lsblk` or `df -h` to list all devices and check that it is attached (it will probably look something like `/dev/sdb1`). \n"
   ]
  },
  {
   "cell_type": "markdown",
   "id": "0e5621fe",
   "metadata": {},
   "source": [
    "First, we'll make a new terminal session using tmux, a terminal multiplexer (which is a fancy way of saying that it enables you do have a number of open terminal sessions at the same time, which you can attach to or detatch from). This is essential, since we want our MinIO service running continuously in the background. By creating a terminal session with tmux, MinIO will keep running even if you disconnect from the server or your network connection is interrupted. \n",
    "\n",
    "Let's create a new terminal session and name it \"minio\":\n",
    "\n",
    "```\n",
    "tmux new -s minio\n",
    "```\n",
    "\n",
    "Now you're in your new tmux terminal. \n",
    "\n",
    "(You can detach from the tmux session and return to your normal terminal by pressing Ctrl+B followed by D. You can later reattach to the session using the command `tmux attach -t minio`.)\n",
    "\n",
    "\n",
    "**You'll need to set a password...**\n",
    "\n",
    "Now, from within this terminal, enter:\n",
    "```\n",
    "sudo docker run -p 9000:9000 -p 9001:9001 --name minio1 -v ~/minio:/data -e \"MINIO_ROOT_USER=root\" -e \"MINIO_ROOT_PASSWORD=PASSWORD\" quay.io/minio/minio:RELEASE.2021-10-23T03-28-24Z server /data -console-address \":9001\"\n",
    "```\n"
   ]
  },
  {
   "cell_type": "code",
   "execution_count": null,
   "id": "41db3e4f",
   "metadata": {},
   "outputs": [],
   "source": []
  }
 ],
 "metadata": {
  "kernelspec": {
   "display_name": "Python 3 (ipykernel)",
   "language": "python",
   "name": "python3"
  },
  "language_info": {
   "codemirror_mode": {
    "name": "ipython",
    "version": 3
   },
   "file_extension": ".py",
   "mimetype": "text/x-python",
   "name": "python",
   "nbconvert_exporter": "python",
   "pygments_lexer": "ipython3",
   "version": "3.8.10"
  }
 },
 "nbformat": 4,
 "nbformat_minor": 5
}
