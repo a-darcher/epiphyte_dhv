{
 "cells": [
  {
   "cell_type": "markdown",
   "id": "f11b4def",
   "metadata": {},
   "source": [
    "# Define the database tables"
   ]
  },
  {
   "cell_type": "markdown",
   "id": "bbbb158e",
   "metadata": {},
   "source": [
    "#### Contents:\n",
    "\n",
    "This notebook covers the basics of defining tables. In particular, it covers:\n",
    "* defining a table,\n",
    "* defining inheritances and relationships between tables,\n",
    "* creating mock-ups of tables before creating them within a database, and\n",
    "* defining how data is imported into a table. \n",
    "\n",
    "#### Previous steps required:\n",
    "1. Generate mock data.\n",
    "2. Successfully instantiate and connect to a database on your machine.\n",
    "\n",
    "\n",
    "\n"
   ]
  },
  {
   "cell_type": "code",
   "execution_count": null,
   "id": "67a25aa4",
   "metadata": {},
   "outputs": [],
   "source": [
    "import sys\n",
    "sys.path.append(\"/home/alana/Documents/phd/code/epiphyte/src/\")"
   ]
  }
 ],
 "metadata": {
  "kernelspec": {
   "display_name": "Python 3 (ipykernel)",
   "language": "python",
   "name": "python3"
  },
  "language_info": {
   "codemirror_mode": {
    "name": "ipython",
    "version": 3
   },
   "file_extension": ".py",
   "mimetype": "text/x-python",
   "name": "python",
   "nbconvert_exporter": "python",
   "pygments_lexer": "ipython3",
   "version": "3.9.18"
  }
 },
 "nbformat": 4,
 "nbformat_minor": 5
}
