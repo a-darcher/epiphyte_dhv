{
 "cells": [
  {
   "cell_type": "markdown",
   "metadata": {},
   "source": [
    "# Compile a codebase"
   ]
  },
  {
   "cell_type": "markdown",
   "metadata": {},
   "source": [
    "### essential components \n",
    "### general set-up\n",
    "### template repository\n"
   ]
  },
  {
   "cell_type": "code",
   "execution_count": 1,
   "metadata": {},
   "outputs": [
    {
     "name": "stderr",
     "output_type": "stream",
     "text": [
      "[2024-02-04 12:26:18,176][INFO]: Connecting root@127.0.0.1:3306\n",
      "[2024-02-04 12:26:18,618][INFO]: Connected root@127.0.0.1:3306\n"
     ]
    }
   ],
   "source": [
    "import sys\n",
    "sys.path.append(\"/home/alana/Documents/phd/code/epiphyte/src/\")\n",
    "\n",
    "import numpy as np\n",
    "from pathlib import Path\n",
    "from datetime import datetime\n",
    "\n",
    "from epiphyte.database import config, helpers\n",
    "from epiphyte.database.access_info import *\n",
    "from epiphyte.preprocessing.data_preprocessing import data_utils, create_vectors_from_time_points\n",
    "from epiphyte.preprocessing.annotation.stimulus_driven_annotation.movies import processing_labels"
   ]
  }
 ],
 "metadata": {
  "kernelspec": {
   "display_name": "epi_dev",
   "language": "python",
   "name": "python3"
  },
  "language_info": {
   "codemirror_mode": {
    "name": "ipython",
    "version": 3
   },
   "file_extension": ".py",
   "mimetype": "text/x-python",
   "name": "python",
   "nbconvert_exporter": "python",
   "pygments_lexer": "ipython3",
   "version": "3.9.18"
  }
 },
 "nbformat": 4,
 "nbformat_minor": 2
}
