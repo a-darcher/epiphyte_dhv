{
 "cells": [
  {
   "cell_type": "code",
   "execution_count": null,
   "metadata": {},
   "outputs": [],
   "source": [
    "import numpy as np\n",
    "import matplotlib.pyplot as plt\n",
    "import pandas as pd\n",
    "import holoviews as hv\n",
    "import panel as pn\n",
    "\n",
    "pn.extension()\n",
    "hv.extension('bokeh')\n",
    "\n",
    "from database.db_setup import *\n",
    "import database.config as config"
   ]
  },
  {
   "cell_type": "code",
   "execution_count": null,
   "metadata": {},
   "outputs": [],
   "source": [
    "import param\n",
    "import panel as pn\n",
    "\n",
    "patients = config.patients\n",
    "sessions = config.sessions\n",
    "patient_ids = []\n",
    "for patient in patients:\n",
    "    patient_ids.append(patient['patient_id'])\n",
    "session_nrs = [1]\n",
    "\n",
    "class PlotterNeuralRecTime(param.Parameterized):\n",
    "\n",
    "    patient_id = param.ObjectSelector(default=1, objects=patient_ids)\n",
    "    session_nr = param.ObjectSelector(default=1, objects=session_nrs)\n",
    "\n",
    "    @param.depends('patient_id', 'session_nr')\n",
    "    def load_symbol(self):\n",
    "        plot = hv.Curve(get_neural_rectime_of_patient(self.patient_id, self.session_nr)/1000, label=\"Neural Recording Time\").opts(framewise=True, width=800, xlabel=\"time\", ylabel=\"neural recording time\")\n",
    "        if os.path.exists(\"neural_rec_time.npy\"):\n",
    "            os.remove(\"neural_rec_time.npy\")\n",
    "        return plot"
   ]
  },
  {
   "cell_type": "code",
   "execution_count": null,
   "metadata": {},
   "outputs": [],
   "source": [
    "p = PlotterNeuralRecTime()\n",
    "pts_dmap = hv.DynamicMap(p.load_symbol)\n",
    "\n",
    "pn.Column(pn.Row(pn.panel(p.param, parameters=['patient_id', 'session_nr'])), pts_dmap).servable()"
   ]
  }
 ],
 "metadata": {
  "kernelspec": {
   "display_name": "Python 3",
   "language": "python",
   "name": "python3"
  },
  "language_info": {
   "codemirror_mode": {
    "name": "ipython",
    "version": 3
   },
   "file_extension": ".py",
   "mimetype": "text/x-python",
   "name": "python",
   "nbconvert_exporter": "python",
   "pygments_lexer": "ipython3",
   "version": "3.8.5"
  }
 },
 "nbformat": 4,
 "nbformat_minor": 4
}
